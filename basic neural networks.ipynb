{
 "cells": [
  {
   "cell_type": "code",
   "execution_count": 21,
   "metadata": {},
   "outputs": [],
   "source": [
    "import numpy as np"
   ]
  },
  {
   "cell_type": "code",
   "execution_count": 70,
   "metadata": {},
   "outputs": [],
   "source": [
    "def sigmoid(x):\n",
    "    return 1/(1+np.exp(-x))\n",
    "training_inputs=np.array([[1,0,1],\n",
    "                         [1,0,0],\n",
    "                         [1,0,0],\n",
    "                         [1,0,1]])\n",
    "training_outputs=np.array([[1,0,0,1]]).T\n",
    "np.random.seed(0)"
   ]
  },
  {
   "cell_type": "code",
   "execution_count": 56,
   "metadata": {},
   "outputs": [],
   "source": [
    "def sigmiddd(x):\n",
    "    return x*(1-x)"
   ]
  },
  {
   "cell_type": "code",
   "execution_count": 57,
   "metadata": {},
   "outputs": [
    {
     "name": "stdout",
     "output_type": "stream",
     "text": [
      "[[0.09762701]\n",
      " [0.43037873]\n",
      " [0.20552675]]\n"
     ]
    }
   ],
   "source": [
    "synaptic_weights=2*np.random.random((3,1))-1\n",
    "print(synaptic_weights)"
   ]
  },
  {
   "cell_type": "code",
   "execution_count": 71,
   "metadata": {},
   "outputs": [
    {
     "name": "stdout",
     "output_type": "stream",
     "text": [
      "[[ 0.00097118]\n",
      " [-0.00118971]\n",
      " [-0.00118971]\n",
      " [ 0.00097118]]\n",
      "[[ 0.00097118]\n",
      " [-0.00118971]\n",
      " [-0.00118971]\n",
      " [ 0.00097118]]\n",
      "Outputs after forward training: [[0.99902882]\n",
      " [0.00118971]\n",
      " [0.00118971]\n",
      " [0.99902882]]\n"
     ]
    }
   ],
   "source": [
    "for i in range(2):\n",
    "    input_layer=training_inputs\n",
    "    outputs=sigmoid(np.dot(training_inputs,synaptic_weights))\n",
    "    error=training_outputs-outputs\n",
    "    print(error)\n",
    "    adjustments=error*sigmiddd(outputs)\n",
    "    synaptic_weights+=np.dot(input_layer.T,adjustments)\n",
    "print(\"Outputs after forward training:\",outputs)"
   ]
  },
  {
   "cell_type": "code",
   "execution_count": null,
   "metadata": {},
   "outputs": [],
   "source": []
  },
  {
   "cell_type": "code",
   "execution_count": null,
   "metadata": {},
   "outputs": [],
   "source": []
  }
 ],
 "metadata": {
  "kernelspec": {
   "display_name": "Python 3",
   "language": "python",
   "name": "python3"
  },
  "language_info": {
   "codemirror_mode": {
    "name": "ipython",
    "version": 3
   },
   "file_extension": ".py",
   "mimetype": "text/x-python",
   "name": "python",
   "nbconvert_exporter": "python",
   "pygments_lexer": "ipython3",
   "version": "3.6.5"
  }
 },
 "nbformat": 4,
 "nbformat_minor": 2
}
