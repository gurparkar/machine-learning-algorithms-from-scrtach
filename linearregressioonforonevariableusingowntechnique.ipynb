{
 "cells": [
  {
   "cell_type": "code",
   "execution_count": 65,
   "metadata": {},
   "outputs": [],
   "source": [
    "import numpy as nalla\n"
   ]
  },
  {
   "cell_type": "code",
   "execution_count": 64,
   "metadata": {},
   "outputs": [
    {
     "data": {
      "text/plain": [
       "(array([6.28, 6.52, 5.48, 6.54, 7.18, 7.93, 8.52]),\n",
       " array([26.35, 26.65, 25.03, 26.01, 27.95, 30.47, 34.5 ]))"
      ]
     },
     "execution_count": 64,
     "metadata": {},
     "output_type": "execute_result"
    }
   ],
   "source": [
    "infor=nalla.loadtxt(\"c:\\\\users\\\\gp\\\\desktop\\\\importantregression.csv\",delimiter=\",\")\n",
    "infor\n",
    "X=infor[:,1]\n",
    "Y=infor[:,2]\n",
    "X,Y"
   ]
  },
  {
   "cell_type": "code",
   "execution_count": 70,
   "metadata": {},
   "outputs": [
    {
     "data": {
      "text/plain": [
       "(5,)"
      ]
     },
     "execution_count": 70,
     "metadata": {},
     "output_type": "execute_result"
    }
   ],
   "source": [
    "from sklearn import model_selection\n",
    "X_Train,X_Test,Y_Train,Y_Test=model_selection.train_test_split(X,Y,test_size=0.25555)\n",
    "X_Train.shape\n"
   ]
  },
  {
   "cell_type": "code",
   "execution_count": 62,
   "metadata": {},
   "outputs": [],
   "source": [
    "def predict(x,m,c):\n",
    "  return m*x+c\n",
    "def score(y_truth,y_predi):\n",
    "    u=((y_truth-y_predi)**2).sum()\n",
    "    v=((y_truth-y_truth.mean())**2).sum()\n",
    "    return 1-u/v\n",
    "def cost(x,y,m,c):\n",
    "    hello=(((y-m*x-c)**2).mean())\n",
    "    return hello"
   ]
  },
  {
   "cell_type": "code",
   "execution_count": 66,
   "metadata": {},
   "outputs": [],
   "source": [
    "#####defining our own fit function\n",
    "def fit(X_Train,Y_Train):\n",
    "     numer=(X_Train*Y_Train).mean()-X_Train.mean()*Y_Train.mean()#####CALCULATING m NUMERATOR FOR CALCULATIONS\n",
    "     denom =(X_Train**2).mean()-X_Train.mean()**2\n",
    "     m=numer/denom\n",
    "     c=Y_Train.mean()-m*(X_Train.mean())\n",
    "     return m,c\n",
    "     \n",
    "    "
   ]
  },
  {
   "cell_type": "code",
   "execution_count": 71,
   "metadata": {},
   "outputs": [
    {
     "name": "stdout",
     "output_type": "stream",
     "text": [
      "m,c= 2.919558181043248 8.195367194575894\n",
      "TEST SCORE:    -8.638577132083434\n",
      "TEST SCORE:    0.9109579681489779\n",
      "COST IS A REAL ANSWER:::::  7365.559017713145\n",
      "COST IS A REAL ANSWER:::::  3223.190034385002\n"
     ]
    }
   ],
   "source": [
    "m,c=fit(X_Train,Y_Train)\n",
    "print(\"m,c=\",m,c)\n",
    "#####test data\n",
    "Y_Predict=predict(X_Test,m,c)\n",
    "print(\"TEST SCORE:   \",score(Y_Test,Y_Predict))\n",
    "\n",
    "#####train dat\n",
    "Y_Predict=predict(X_Train,m,c)\n",
    "print(\"TEST SCORE:   \",score(Y_Train,Y_Predict))\n",
    "\n",
    "\n",
    "#####cost function\n",
    "print(\"COST IS A REAL ANSWER::::: \",cost(Y_Train,X_Train,m,c))\n",
    "print(\"COST IS A REAL ANSWER::::: \",cost(Y_Train,X_Train,m-1,c))"
   ]
  },
  {
   "cell_type": "code",
   "execution_count": null,
   "metadata": {},
   "outputs": [],
   "source": []
  }
 ],
 "metadata": {
  "kernelspec": {
   "display_name": "Python 3",
   "language": "python",
   "name": "python3"
  },
  "language_info": {
   "codemirror_mode": {
    "name": "ipython",
    "version": 3
   },
   "file_extension": ".py",
   "mimetype": "text/x-python",
   "name": "python",
   "nbconvert_exporter": "python",
   "pygments_lexer": "ipython3",
   "version": "3.6.5"
  }
 },
 "nbformat": 4,
 "nbformat_minor": 2
}
